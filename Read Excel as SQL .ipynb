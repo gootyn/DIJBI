{
 "cells": [
  {
   "cell_type": "code",
   "execution_count": 1,
   "metadata": {},
   "outputs": [],
   "source": [
    "import pyodbc"
   ]
  },
  {
   "cell_type": "code",
   "execution_count": 6,
   "metadata": {},
   "outputs": [],
   "source": [
    "import pandas as pd"
   ]
  },
  {
   "cell_type": "code",
   "execution_count": 2,
   "metadata": {},
   "outputs": [],
   "source": [
    "import sqlite3\n",
    "from sqlalchemy import create_engine"
   ]
  },
  {
   "cell_type": "code",
   "execution_count": 10,
   "metadata": {},
   "outputs": [],
   "source": [
    "file='/Users/nagarajugooty/downloads/Computer_data.xls'\n",
    "output ='output.csv'"
   ]
  },
  {
   "cell_type": "code",
   "execution_count": 11,
   "metadata": {},
   "outputs": [],
   "source": [
    "engine=create_engine('sqlite://',echo=False)\n",
    "df=pd.read_excel(file)"
   ]
  },
  {
   "cell_type": "code",
   "execution_count": 18,
   "metadata": {},
   "outputs": [
    {
     "data": {
      "text/plain": [
       "<sqlalchemy.engine.result.ResultProxy at 0x109f9a250>"
      ]
     },
     "metadata": {},
     "output_type": "display_data"
    }
   ],
   "source": [
    "df.to_sql('computer_data',engine,if_exists='replace')\n",
    "result=engine.execute('select * from computer_data')\n",
    "display(result)"
   ]
  },
  {
   "cell_type": "code",
   "execution_count": 19,
   "metadata": {},
   "outputs": [
    {
     "name": "stdout",
     "output_type": "stream",
     "text": [
      "         0     1    2     3   4   5    6    7    8   9  10\n",
      "0        0  1499   25    80   4  14   no   no  yes  94   1\n",
      "1        1  1795   33    85   2  14   no   no  yes  94   1\n",
      "2        2  1595   25   170   4  15   no   no  yes  94   1\n",
      "3        3  1849   25   170   8  14   no   no   no  94   1\n",
      "4        4  3295   33   340  16  14   no   no  yes  94   1\n",
      "...    ...   ...  ...   ...  ..  ..  ...  ...  ...  ..  ..\n",
      "6254  6254  1690  100   528   8  15   no   no  yes  39  35\n",
      "6255  6255  2223   66   850  16  15  yes  yes  yes  39  35\n",
      "6256  6256  2654  100  1200  24  15  yes   no  yes  39  35\n",
      "6257  6257  2195  100   850  16  15  yes   no  yes  39  35\n",
      "6258  6258  2490  100   850  16  17  yes   no  yes  39  35\n",
      "\n",
      "[6259 rows x 11 columns]\n"
     ]
    }
   ],
   "source": [
    "edf=pd.DataFrame(result)\n",
    "print(edf)"
   ]
  },
  {
   "cell_type": "code",
   "execution_count": null,
   "metadata": {},
   "outputs": [],
   "source": []
  }
 ],
 "metadata": {
  "kernelspec": {
   "display_name": "Python 3",
   "language": "python",
   "name": "python3"
  },
  "language_info": {
   "codemirror_mode": {
    "name": "ipython",
    "version": 3
   },
   "file_extension": ".py",
   "mimetype": "text/x-python",
   "name": "python",
   "nbconvert_exporter": "python",
   "pygments_lexer": "ipython3",
   "version": "3.7.4"
  }
 },
 "nbformat": 4,
 "nbformat_minor": 4
}

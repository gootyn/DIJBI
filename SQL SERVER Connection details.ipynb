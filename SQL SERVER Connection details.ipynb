{
 "cells": [
  {
   "cell_type": "code",
   "execution_count": 2,
   "metadata": {},
   "outputs": [],
   "source": [
    "import pyodbc\n",
    "import pandas as pd"
   ]
  },
  {
   "cell_type": "code",
   "execution_count": 3,
   "metadata": {},
   "outputs": [
    {
     "data": {
      "text/plain": [
       "[]"
      ]
     },
     "execution_count": 3,
     "metadata": {},
     "output_type": "execute_result"
    }
   ],
   "source": [
    "pyodbc.drivers()"
   ]
  },
  {
   "cell_type": "code",
   "execution_count": 11,
   "metadata": {},
   "outputs": [
    {
     "name": "stdout",
     "output_type": "stream",
     "text": [
      "(1, 'AE', 'Jebel Ali', 'Jebel Ali', 1, datetime.datetime(2019, 12, 4, 12, 37, 39, 153000))\n",
      "(2, 'US', 'TBA', 'TBA', 1, datetime.datetime(2019, 12, 4, 12, 37, 56, 760000))\n",
      "(3, 'AU', 'Sydney', 'Sydney', 1, datetime.datetime(2019, 12, 4, 12, 38, 8, 413000))\n",
      "(4, 'IN', 'Petrapole', 'Petrapole', 1, datetime.datetime(2019, 12, 4, 12, 38, 18, 120000))\n",
      "(5, 'ZA', 'Cape Town', 'Cape Town', 1, datetime.datetime(2019, 12, 4, 12, 38, 32, 827000))\n",
      "(6, 'US', 'New York', 'New York', 1, datetime.datetime(2019, 12, 4, 12, 38, 46, 633000))\n",
      "(7, 'US', 'Los Angeles', 'Los Angeles', 1, datetime.datetime(2019, 12, 4, 12, 38, 55, 870000))\n",
      "(8, 'GB', 'London', 'London', 1, datetime.datetime(2019, 12, 4, 12, 39, 10, 593000))\n",
      "(9, 'BD', 'Chittagong', 'Chittagong', 1, datetime.datetime(2019, 12, 4, 12, 39, 19, 787000))\n",
      "(10, 'BD', 'Dhaka', 'Dhaka', 1, datetime.datetime(2019, 12, 4, 12, 39, 26, 447000))\n",
      "(11, 'NL', 'Seattle', 'Seattle', 1, datetime.datetime(2019, 12, 10, 16, 24, 57, 543000))\n"
     ]
    }
   ],
   "source": [
    "cnx = pyodbc.connect(\n",
    "    server=\"202.21.32.26\",\n",
    "    database=\"Hid-e_Testing\",\n",
    "    user='DbView',\n",
    "    tds_version='7.4',\n",
    "    password=\"Welcome2020\",\n",
    "    port=1433,\n",
    "    driver='FreeTDS'\n",
    ")\n",
    "cursor = cnx.cursor()\n",
    "cursor.execute('SELECT * FROM dbo.BD_CountryPortMaster')\n",
    "\n",
    "for row in cursor:\n",
    "    print(row)"
   ]
  },
  {
   "cell_type": "code",
   "execution_count": 8,
   "metadata": {},
   "outputs": [
    {
     "name": "stdout",
     "output_type": "stream",
     "text": [
      "[('Microsoft SQL Server 2017 (RTM) - 14.0.1000.169 (X64) \\n\\tAug 22 2017 17:04:49 \\n\\tCopyright (C) 2017 Microsoft Corporation\\n\\tWeb Edition (64-bit) on Windows Server 2012 R2 Standard 6.3 <X64> (Build 9600: ) (Hypervisor)\\n', )]\n"
     ]
    }
   ],
   "source": [
    "conn = pyodbc.connect('DSN=MYMSSQL;UID=DbView;PWD=Welcome2020')\n",
    "crsr = conn.cursor()\n",
    "rows = crsr.execute(\"select @@VERSION\").fetchall()\n",
    "print(rows)\n",
    "crsr.close()\n",
    "conn.close()"
   ]
  },
  {
   "cell_type": "code",
   "execution_count": null,
   "metadata": {},
   "outputs": [],
   "source": []
  }
 ],
 "metadata": {
  "kernelspec": {
   "display_name": "Python 3",
   "language": "python",
   "name": "python3"
  },
  "language_info": {
   "codemirror_mode": {
    "name": "ipython",
    "version": 3
   },
   "file_extension": ".py",
   "mimetype": "text/x-python",
   "name": "python",
   "nbconvert_exporter": "python",
   "pygments_lexer": "ipython3",
   "version": "3.7.4"
  }
 },
 "nbformat": 4,
 "nbformat_minor": 4
}
